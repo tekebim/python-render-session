{
  "nbformat": 4,
  "nbformat_minor": 0,
  "metadata": {
    "colab": {
      "name": "PYTHON_Session_16112020.ipynb",
      "provenance": [],
      "collapsed_sections": [],
      "authorship_tag": "ABX9TyOGsEshviom7O/BMnuIBeBs",
      "include_colab_link": true
    },
    "kernelspec": {
      "name": "python3",
      "display_name": "Python 3"
    }
  },
  "cells": [
    {
      "cell_type": "markdown",
      "metadata": {
        "id": "view-in-github",
        "colab_type": "text"
      },
      "source": [
        "<a href=\"https://colab.research.google.com/github/tekebim/python-render-session/blob/master/PYTHON_Session_16112020.ipynb\" target=\"_parent\"><img src=\"https://colab.research.google.com/assets/colab-badge.svg\" alt=\"Open In Colab\"/></a>"
      ]
    },
    {
      "cell_type": "markdown",
      "metadata": {
        "id": "N-I-0ue8oruf"
      },
      "source": [
        "# Evaluation PYTHON - Novembre 2020"
      ]
    },
    {
      "cell_type": "markdown",
      "metadata": {
        "id": "0pVqiaKnoplS"
      },
      "source": [
        "### Problème 1 : Carré\n",
        "Ecrire une fonction en python qui demande un nombre à l'utilisateur et qui affiche le carré de\n",
        "ce nombre. "
      ]
    },
    {
      "cell_type": "code",
      "metadata": {
        "id": "_SslwV9ik-7F",
        "outputId": "47ff68e3-b6a9-4933-b693-6c46df31a907",
        "colab": {
          "base_uri": "https://localhost:8080/"
        }
      },
      "source": [
        "# Ask user number\n",
        "userVal = input('Veuillez saisir un nombre : ');\n",
        "userVal = int(userVal)\n",
        "number = userVal*userVal\n",
        "print(number)"
      ],
      "execution_count": 5,
      "outputs": [
        {
          "output_type": "stream",
          "text": [
            "Veuillez saisir un nombre : 4\n",
            "16\n"
          ],
          "name": "stdout"
        }
      ]
    },
    {
      "cell_type": "markdown",
      "metadata": {
        "id": "oVoCOJQYphGj"
      },
      "source": [
        "## Problème 2 : Produit\n",
        "Ecrire une fonction en python qui prend deux nombres et informe en suite si leur produit est négatif ou positif ou nul. Attention : il n'est pas nécessaire de renvoyer le produit des deux nombres."
      ]
    },
    {
      "cell_type": "code",
      "metadata": {
        "id": "SUU6elT5prIR",
        "outputId": "c83eac14-f176-46fb-ae94-596143a1ca08",
        "colab": {
          "base_uri": "https://localhost:8080/"
        }
      },
      "source": [
        "# define variables\n",
        "msg = 'Le produit des deux nombres est : ';\n",
        "msgPositive = msg + 'positif';\n",
        "msgNegative = msg + 'négatif';\n",
        "\n",
        "userValueOne = input('Veuillez saisir un premier nombre : ');\n",
        "userValueSecond = input('Veuillez saisir un second nombre : ');\n",
        "\n",
        "# create function\n",
        "def productType (value1, value2):\n",
        "  # if first value is positive\n",
        "  if int(value1) >= 0 :\n",
        "    # if second value is positive too\n",
        "    if int(userValueSecond) >= 0:\n",
        "      print(msgPositive)\n",
        "    else :\n",
        "      print(msgNegative)\n",
        "    # if second element is negative too\n",
        "  else:\n",
        "    if int(userValueSecond) >= 0:\n",
        "      print(msgNegative)\n",
        "    else :\n",
        "      print(msgPositive)\n",
        "    \n",
        "# check product of user values    \n",
        "productType(userValueOne, userValueSecond)\n"
      ],
      "execution_count": 12,
      "outputs": [
        {
          "output_type": "stream",
          "text": [
            "Veuillez saisir un premier nombre : 2\n",
            "Veuillez saisir un second nombre : -3\n",
            "Le produit des deux nombres est : négatif\n"
          ],
          "name": "stdout"
        }
      ]
    },
    {
      "cell_type": "markdown",
      "metadata": {
        "id": "nv7VZel1rTUA"
      },
      "source": [
        "## Problème 3 : Somme\n",
        "Ecrire une fonction en python qui prend un nombre de départ disons k, et qui calcule la\n",
        "somme des entiers jusqu’à ce nombre, noté Σ􀯞􀬾􀬵􀬴 𝑖\n",
        "􀯜􀭀􀯞 . Par exemple, si k = 5, la fonction doit\n",
        "renvoyer : 15."
      ]
    },
    {
      "cell_type": "code",
      "metadata": {
        "id": "GlxOTFckrqyt",
        "outputId": "fa32d185-e31e-4700-ea44-e181e561c2a1",
        "colab": {
          "base_uri": "https://localhost:8080/"
        }
      },
      "source": [
        "userVal = input('Veuillez saisir un nombre de départ: ')\n",
        "\n",
        "# define the variables\n",
        "k = int(userVal)\n",
        "# default sum value\n",
        "sumVal = 0\n",
        "\n",
        "# foreach integer until user value\n",
        "for eachInteger in range(k):\n",
        "  sumVal = sumVal + eachInteger\n",
        "# display the sum value of all integer until user value\n",
        "print('Somme de tous les entiers jusqu\\'à', k,':', sumVal)"
      ],
      "execution_count": 14,
      "outputs": [
        {
          "output_type": "stream",
          "text": [
            "Veuillez saisir un nombre de départ: 4\n",
            "Somme de tous les entiers jusqu'à 4 : 6\n"
          ],
          "name": "stdout"
        }
      ]
    },
    {
      "cell_type": "markdown",
      "metadata": {
        "id": "hZJ9Wa2NsKcd"
      },
      "source": [
        "## Problème 4 : FacProduct\n",
        "Ecrire un algorithme qui, à partir de deux tableaux précédemment saisis calcule le\n",
        "'FacProduct' des deux tableaux. Pour calculer le 'FacProduct', il faut multiplier chaque\n",
        "élément du tableau1 par chaque élément du tableau2, et additionner le tout.\n",
        "Par exemple, soient deux tableaux l1; l2, où l1 = [1; 2; 3] et l2 = [1; 2] l'algorithme doit\n",
        "renvoyer 18."
      ]
    },
    {
      "cell_type": "code",
      "metadata": {
        "id": "dbupsDuRsNY9",
        "outputId": "e9e36508-754e-452c-ace4-900352085d17",
        "colab": {
          "base_uri": "https://localhost:8080/"
        }
      },
      "source": [
        "# import librairies\n",
        "from random import randint\n",
        "\n",
        "min, max = -30, 30\n",
        "myArrayLenght = 10\n",
        "\n",
        "# build arrays with random values\n",
        "myFirstArray = [randint(min,max) for _ in range(myArrayLenght)]\n",
        "mySecondArray = [randint(min,max) for _ in range(myArrayLenght)]\n",
        "# define the start value\n",
        "sumValue = 0\n",
        "\n",
        "# loop on primary array\n",
        "for _, primaryElement in enumerate(myFirstArray):\n",
        "  # loop on secondary array\n",
        "  for _, secondaryElement in enumerate(mySecondArray):\n",
        "    # sum the product of (primaryElement * secondaryElement)    \n",
        "    sumValue += primaryElement * secondaryElement\n",
        "\n",
        "print(myFirstArray)\n",
        "print(mySecondArray)\n",
        "print('Résultat du FacProduct entre le tableau 1 et 2 :', sumValue)"
      ],
      "execution_count": 19,
      "outputs": [
        {
          "output_type": "stream",
          "text": [
            "[4, 26, 17, 13, -19, 30, -28, -8, -1, 8]\n",
            "[6, 15, 21, -4, 27, 9, -7, 16, 2, 15]\n",
            "Résultat du FacProduct entre le tableau 1 et 2 : 4200\n"
          ],
          "name": "stdout"
        }
      ]
    },
    {
      "cell_type": "markdown",
      "metadata": {
        "id": "Pi8b-SIEstMg"
      },
      "source": [
        "## Problème 5 : Minimum\n",
        "Ecrire un algorithme retournant le minimum d'un tableau donné."
      ]
    },
    {
      "cell_type": "code",
      "metadata": {
        "id": "REfXnfh6swsV",
        "outputId": "8fdd6fa8-b874-4b0d-c95c-ce69bb9b2753",
        "colab": {
          "base_uri": "https://localhost:8080/"
        }
      },
      "source": [
        "# array to parse\n",
        "arrayToParse = [1, 3, -3]\n",
        "\n",
        "# function mininum\n",
        "def detectMinimum(liste):\n",
        "    min = liste[0]\n",
        "    longueur=len(liste)\n",
        "    indice_max = 0\n",
        "    for i in range(longueur):\n",
        "        if liste[i] <= min:\n",
        "            min = liste[i]\n",
        "            indice_max = i\n",
        "    return min\n",
        "\n",
        "# return\n",
        "detectMinimum(arrayToParse)"
      ],
      "execution_count": 33,
      "outputs": [
        {
          "output_type": "execute_result",
          "data": {
            "text/plain": [
              "-3"
            ]
          },
          "metadata": {
            "tags": []
          },
          "execution_count": 33
        }
      ]
    },
    {
      "cell_type": "markdown",
      "metadata": {
        "id": "ocHFUg77s9XP"
      },
      "source": [
        "## Problème 6 : Tri\n",
        "Ecrire un algorithme triant un tableau donné par sélection. L'algorithme va commencer par chercher l'élément de plus petite valeur dans le tableau, on le place en tête du tableau et on\n",
        "recommence avec le tableau moins la première case. Vous pouvez notamment utiliser la fonction minimum dans l'exercice précédent."
      ]
    },
    {
      "cell_type": "code",
      "metadata": {
        "id": "r9yw_e4MwOL5",
        "outputId": "4c3c97be-ae90-4ad2-ce33-1661633e64a0",
        "colab": {
          "base_uri": "https://localhost:8080/"
        }
      },
      "source": [
        "import random\n",
        "liste = []\n",
        "\n",
        "# function mininum\n",
        "def detectMinimum(liste):\n",
        "    min = liste[0]\n",
        "    longueur=len(liste)\n",
        "    indice_max = 0\n",
        "    for i in range(longueur):\n",
        "        if liste[i] <= min:\n",
        "            min = liste[i]\n",
        "            indice_max = i\n",
        "    return min\n",
        "\n",
        "  def tri_insertion(liste):\n",
        "    L = list(liste) \n",
        "    N = len(L)\n",
        "    for n in range(1,N):\n",
        "        cle = L[n]\n",
        "        j = n-1\n",
        "        while j>=0 and L[j] > cle:\n",
        "            L[j+1] = L[j] # decalage\n",
        "            j = j-1\n",
        "        L[j+1] = cle\n",
        "    return L\n",
        "\n",
        "for k in range(10):\n",
        "    liste.append(random.randint(0,20))\n",
        "detectMinimum(liste)\n"
      ],
      "execution_count": 31,
      "outputs": [
        {
          "output_type": "execute_result",
          "data": {
            "text/plain": [
              "0"
            ]
          },
          "metadata": {
            "tags": []
          },
          "execution_count": 31
        }
      ]
    },
    {
      "cell_type": "markdown",
      "metadata": {
        "id": "hcbup0TYtaSz"
      },
      "source": [
        "## Problème 7 : Carré & listes\n",
        "Ecrire un algorithme qui prend une liste en entré et qui renvoie une liste contenant le carré de\n",
        "chaque élément de la liste passée en entré. Veuillez utiliser la fonction définie dans le\n",
        "problème 1."
      ]
    },
    {
      "cell_type": "code",
      "metadata": {
        "id": "IAw-lYLWtdM7",
        "outputId": "48e237b2-6c88-4640-e524-a74913048c88",
        "colab": {
          "base_uri": "https://localhost:8080/"
        }
      },
      "source": [
        "userArrayLenght = input(\"Veuillez saisir le nombre d'entrées dans du tableau : \")\n"
      ],
      "execution_count": 34,
      "outputs": [
        {
          "output_type": "stream",
          "text": [
            "Veuillez saisir le nombre d'entrées dans du tableau : 4\n"
          ],
          "name": "stdout"
        }
      ]
    },
    {
      "cell_type": "markdown",
      "metadata": {
        "id": "ex1JCREKvCJH"
      },
      "source": [
        "## Problème 8 : Valeur du plus petit doublon\n",
        "Ecrire un algorithme qui donne la valeur du premier doublon dans une liste.\n",
        "Par exemple pour la liste l = [1; 2; 3; 6; 5; 3; 7; 2] l'algorithme sortira 3."
      ]
    },
    {
      "cell_type": "code",
      "metadata": {
        "id": "ZwwFCYVZvDvx"
      },
      "source": [
        ""
      ],
      "execution_count": null,
      "outputs": []
    },
    {
      "cell_type": "markdown",
      "metadata": {
        "id": "s-tPYSJRu_09"
      },
      "source": [
        "## Problème 9 : Multiplication matricielle"
      ]
    },
    {
      "cell_type": "code",
      "metadata": {
        "id": "elkC0FLFvD_B",
        "outputId": "457f8474-242f-49e7-fa22-3e180adfbd03",
        "colab": {
          "base_uri": "https://localhost:8080/"
        }
      },
      "source": [
        "def produitMatriciel(A, B):\n",
        "    n = len(A)\n",
        "    p = len(A[0])\n",
        "    q = len(B[0])\n",
        "    return list([sum([A[i][k]*B[k][j] for k in range(p)]) for j in range(q)] for i in range(n))\n",
        "\n",
        "\n",
        "A = [[1,2], [3,4]]\n",
        "B = [[1,3], [2,4]]\n",
        "print (produitMatriciel(A,B))"
      ],
      "execution_count": 39,
      "outputs": [
        {
          "output_type": "stream",
          "text": [
            "[[5, 11], [11, 25]]\n"
          ],
          "name": "stdout"
        }
      ]
    },
    {
      "cell_type": "markdown",
      "metadata": {
        "id": "wif_OBe0uRLG"
      },
      "source": [
        "## Problème 10 : POO\n",
        "Expliquer ce qu'est la programmation orientée objet, le concept d'héritage, de\n",
        "polymorphisme ainsi que la différence avec la programmation dite plus \"classique\" et donner\n",
        "des exemples."
      ]
    },
    {
      "cell_type": "markdown",
      "metadata": {
        "id": "GupGSJXruSmn"
      },
      "source": [
        "La programmation orienté objet (POO) permet de créer des instances de classes.\n",
        "\n",
        "Le concept d'héritage : signifie qu’une classe B hérite de la classe A. Autrement dit, la classe B hérite des attributs et méthodes de la classe A. Les méthodes contenues dans la classe A peuvent être appelées par la classe B dès lors qu’une instance de la classe B est créée. Cela fait énormément gagner en temps.\n",
        "\n",
        "Example :"
      ]
    }
  ]
}